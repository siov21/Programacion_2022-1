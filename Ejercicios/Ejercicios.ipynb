{
  "nbformat": 4,
  "nbformat_minor": 0,
  "metadata": {
    "colab": {
      "name": "Ejercicios",
      "provenance": [],
      "collapsed_sections": []
    },
    "kernelspec": {
      "name": "python3",
      "display_name": "Python 3"
    },
    "language_info": {
      "name": "python"
    }
  },
  "cells": [
    {
      "cell_type": "markdown",
      "source": [
        "Escribir un programa que pregunte al usuario su nombre, edad, dirección y teléfono y lo guarde en un diccionario. Después debe mostrar por pantalla el mensaje:\n",
        "<nombre> tiene <edad> años, vive en <dirección> y su número de teléfono es <teléfono>."
      ],
      "metadata": {
        "id": "RlZBrNYibneM"
      }
    },
    {
      "cell_type": "markdown",
      "source": [
        ""
      ],
      "metadata": {
        "id": "tPkSC9Rs5peE"
      }
    },
    {
      "cell_type": "code",
      "source": [
        "nombre = input('Ingrese su nombre: ')\n",
        "edad = input('Ingrese su Edad: ')\n",
        "direccion = input('Ingrese su dirección: ')\n",
        "telefono = input('Ingrese su numero de telefono: ')\n",
        "info = {'nombre': nombre, 'edad': edad, 'direccion': direccion, 'telefono': telefono}\n",
        "print(info['nombre'], 'tiene', info['edad'], 'años, vive en', info['direccion'], 'y su número de teléfono es', info['telefono'])"
      ],
      "metadata": {
        "id": "8DRrSjJSbwjB",
        "colab": {
          "base_uri": "https://localhost:8080/"
        },
        "outputId": "de6b4e51-db50-4ad5-cbab-1196800d7706"
      },
      "execution_count": 1,
      "outputs": [
        {
          "output_type": "stream",
          "name": "stdout",
          "text": [
            "Ingrese su nombre: Isabel\n",
            "Ingrese su Edad: 22\n",
            "Ingrese su dirección: Carrera 54 #58-28\n",
            "Ingrese su numero de telefono: 3027044599\n",
            "Isabel tiene 22 años, vive en Carrera 54 #58-28 y su número de teléfono es 3027044599\n"
          ]
        }
      ]
    },
    {
      "cell_type": "markdown",
      "source": [
        "Escribir un programa que pregunte una fecha actual y de nacimiento ‘dd/mm/aaaa’ y muestre por pantalla la misma fecha en formato dd de <mes> de aaaa, y sus días de vida son <####>\n",
        " donde <mes> es el nombre del mes.\n"
      ],
      "metadata": {
        "id": "kg6FfRiTboxR"
      }
    },
    {
      "cell_type": "code",
      "source": [
        "actual=input(\"Ingrese la fecha actual(dd/mm/aaaa): \")\n",
        "actual=actual.split(\"/\")\n",
        "lista_actual=[]\n",
        "for i in actual:\n",
        "    a=int(i)\n",
        "    lista_actual.append(a)\n",
        "nacimiento=input(\"Ingrese la fecha de su nacimiento (dd/mm/aaaa): \")\n",
        "nacimiento=nacimiento.split(\"/\")\n",
        "lista_nacimiento=[]\n",
        "for i in nacimiento:\n",
        "    b=int(i)\n",
        "    lista_nacimiento.append(b)\n",
        "\n",
        "meses={1:'Enero', 2:'Febrero', 3:'Marzo', 4:'Abril', 5:'Mayo', 6:'Junio', 7:'Julio', 8:'Agosto', 9:'Septiembre', 10:'Octubre', 11:'Noviembre', 12:'Diciembre'}\n",
        "totaldias=((lista_actual[2]-lista_nacimiento[2])*(365.242189))+((lista_actual[0]-lista_nacimiento[0])+((lista_actual[1]-lista_nacimiento[1])*(365.242189/12)))\n",
        "print(\"La fecha es\",actual[0],\"de\",meses[lista_actual[1]],\"de\",actual[2],\"\\nSus dias de vida son:\",round(totaldias))"
      ],
      "metadata": {
        "id": "Yj6ORzEpleJb",
        "colab": {
          "base_uri": "https://localhost:8080/"
        },
        "outputId": "0119a4fb-af8a-49c1-fc05-f107d067782f"
      },
      "execution_count": null,
      "outputs": [
        {
          "output_type": "stream",
          "name": "stdout",
          "text": [
            "Ingrese la fecha actual(dd/mm/aaaa): 8/6/2022\n",
            "Ingrese la fecha de su nacimiento (dd/mm/aaaa): 15/5/2004\n",
            "La fecha es 8 de Junio de 2022 \n",
            "Sus dias de vida son:  6598\n"
          ]
        }
      ]
    },
    {
      "cell_type": "markdown",
      "source": [
        "Escribir un programa que administre un dictado, es decir puede tener mínimo dos ingresos.\n",
        "debe preguntar al usuario tres datos (los que quiera), y a partir de estos crear un dictado con las siguientes características.\n",
        "La clave será un entero respectivo al orden en que los usuarios ingresan los datos.\n",
        "El valor será un dictado con los tres datos\n",
        "{‘dato1’:857,‘dato2’:True,‘dato3’:’dffd’}\n",
        "\n",
        "\n",
        "El dictado general será:\n",
        "\n",
        "\n",
        "{0:{‘dato1’:857,‘dato2’:True,‘dato3’:’dffd’},1:{‘dato1’:857,‘dato2’:True,‘dato3’:’dffd’}}\n",
        "Al final el programa imprimirá el primer(minimo) y último(maximo) usuario con sus datos.\n"
      ],
      "metadata": {
        "id": "fs4aPlCcbves"
      }
    },
    {
      "cell_type": "code",
      "source": [
        "lista=[]\n",
        "pregunta=input(\"¿Desea ingresar un usuario? Escriba 1, sino escriba 0: \")\n",
        "dictgen={}\n",
        "g={}\n",
        "a=0\n",
        "contador=0\n",
        "while pregunta==\"1\":\n",
        "  dato1=input(\"Ingrese el primer dato:\")\n",
        "  dato2=input(\"Ingrese el segundo dato:\")\n",
        "  dato3=input(\"Ingrese el tercer dato:\")\n",
        "  lista.append(dato1)\n",
        "  lista.append(dato2)\n",
        "  lista.append(dato3)\n",
        "  for i in lista:\n",
        "    a+=1\n",
        "    g[\"dato\"+str(a)]=i\n",
        "  \n",
        "  dictgen[contador]=g\n",
        "  contador+=1\n",
        "  lista=[]\n",
        "  g={}\n",
        "  a=0\n",
        "  pregunta=input(\"¿Desea ingresar otro usuario? Escriba 1, sino escriba 0\")\n",
        "  if pregunta == \"0\":\n",
        "    break\n",
        "print(max(dictgen),dictgen[max(dictgen)])\n",
        "print(min(dictgen),dictgen[min(dictgen)])"
      ],
      "metadata": {
        "id": "Q43p5_7h65zb",
        "colab": {
          "base_uri": "https://localhost:8080/"
        },
        "outputId": "956821e0-13e2-4fd6-ce52-be0f53994c63"
      },
      "execution_count": 2,
      "outputs": [
        {
          "output_type": "stream",
          "name": "stdout",
          "text": [
            "¿Desea ingresar un usuario? Escriba 1, sino escriba 0: 1\n",
            "Ingrese el primer dato:857\n",
            "Ingrese el segundo dato:true\n",
            "Ingrese el tercer dato:dffd\n",
            "¿Desea ingresar otro usuario? Escriba 1, sino escriba 01\n",
            "Ingrese el primer dato:786\n",
            "Ingrese el segundo dato:false\n",
            "Ingrese el tercer dato:yyyt\n",
            "¿Desea ingresar otro usuario? Escriba 1, sino escriba 00\n",
            "1 {'dato1': '786', 'dato2': 'false', 'dato3': 'yyyt'}\n",
            "0 {'dato1': '857', 'dato2': 'true', 'dato3': 'dffd'}\n"
          ]
        }
      ]
    }
  ]
}