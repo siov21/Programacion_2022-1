{
  "nbformat": 4,
  "nbformat_minor": 0,
  "metadata": {
    "colab": {
      "name": "Laboratorio3.ipynb",
      "provenance": [],
      "collapsed_sections": []
    },
    "kernelspec": {
      "name": "python3",
      "display_name": "Python 3"
    },
    "language_info": {
      "name": "python"
    }
  },
  "cells": [
    {
      "cell_type": "code",
      "source": [
        "#------ Libreria necesaria para generar numeros aleatorios\n",
        "import random as rn\n",
        "#-------codigo-----\n",
        "tamaño=5#cantidad de caracteres\n",
        "n= True\n",
        "continuar =True\n",
        "intentos_permitidos = 5\n",
        "x= 0\n",
        "intentos = 0\n",
        "print('Este programa emulador de acceso, Solo le permitirá continuar si escribe correctamente\\n los '+str(tamaño)+' caracteres de la clave de acceso mostrada')\n",
        "while continuar:\n",
        "  print('Escriba el codigo mostrado en pantalla')\n",
        "  codigo=''\n",
        "  for i in range(tamaño):\n",
        "    codigo+=chr(rn.randint(65,122))\n",
        "    print(codigo)\n",
        "  verificar=input('ingrese la clave de acceso de seguridad '+codigo+'  :')\n",
        "  intentos+=1\n",
        "  if verificar==codigo:\n",
        "    print('Muy Bien, podrá continuar con el acceso a su cuenta')\n",
        "    #--------------su codigo aqui--------------\n",
        "    contrasena='contrasena_1245'\n",
        "    print('Ingrese su contraseña: ')\n",
        "    while n:\n",
        "        for i in range(tamaño):\n",
        "          if x==5:\n",
        "            print('Ha utilizado los intentos permitidos, intente mas tarde ')\n",
        "            n=False\n",
        "            break\n",
        "          contraseña=input()\n",
        "          x+=1\n",
        "          if contraseña==contrasena:\n",
        "              print('Contraseña Corecta\\n ¡BIENVENIDO!') \n",
        "              n=False\n",
        "              break\n",
        "          else:\n",
        "              print('Contraseña Incorrecta, Vuelva a Intentarlo\\t')   \n",
        "    #------------------------------------------\n",
        "    continuar=False\n",
        "  if intentos==intentos_permitidos:\n",
        "    print('Ha utilizado los intentos permitidos, intente mas tarde ')\n",
        "    continuar=False\n",
        "    n=False\n",
        "print('Ejecución terminada')"
      ],
      "metadata": {
        "colab": {
          "base_uri": "https://localhost:8080/"
        },
        "id": "K03Y_PHA78G1",
        "outputId": "34bf5b1a-9e20-4cde-d695-39d043b7df78"
      },
      "execution_count": 3,
      "outputs": [
        {
          "output_type": "stream",
          "name": "stdout",
          "text": [
            "Este programa emulador de acceso, Solo le permitirá continuar si escribe correctamente\n",
            " los 5 caracteres de la clave de acceso mostrada\n",
            "Escriba el codigo mostrado en pantalla\n",
            "P\n",
            "Pw\n",
            "Pwf\n",
            "Pwfa\n",
            "Pwfat\n",
            "ingrese la clave de acceso de seguridad Pwfat  :Pwfat\n",
            "Muy Bien, podrá continuar con el acceso a su cuenta\n",
            "Ingrese su contraseña: \n",
            "r\n",
            "Contraseña Incorrecta, Vuelva a Intentarlo\t\n",
            "e\n",
            "Contraseña Incorrecta, Vuelva a Intentarlo\t\n",
            "r\n",
            "Contraseña Incorrecta, Vuelva a Intentarlo\t\n",
            "s\n",
            "Contraseña Incorrecta, Vuelva a Intentarlo\t\n",
            "d\n",
            "Contraseña Incorrecta, Vuelva a Intentarlo\t\n",
            "Ha utilizado los intentos permitidos, intente mas tarde \n",
            "Ejecución terminada\n"
          ]
        }
      ]
    },
    {
      "cell_type": "code",
      "source": [
        "#------ Libreria necesaria para generar numeros aleatorios\n",
        "import random as rn\n",
        "#-------codigo-----\n",
        "tamaño=5#cantidad de caracteres\n",
        "n= True\n",
        "continuar =True\n",
        "intentos_permitidos = 5\n",
        "x= 0\n",
        "intentos = 0\n",
        "print('Este programa emulador de acceso, Solo le permitirá continuar si escribe correctamente\\n los '+str(tamaño)+' caracteres de la clave de acceso mostrada')\n",
        "while continuar:\n",
        "  print('Escriba el codigo mostrado en pantalla')\n",
        "  codigo=''\n",
        "  for i in range(tamaño):\n",
        "    codigo+=chr(rn.randint(65,122))\n",
        "    print(codigo)\n",
        "  verificar=input('ingrese la clave de acceso de seguridad '+codigo+'  :')\n",
        "  intentos+=1\n",
        "  if verificar==codigo:\n",
        "    print('Muy Bien, podrá continuar con el acceso a su cuenta')\n",
        "    #--------------su codigo aqui--------------\n",
        "    contrasena='contrasena_1245'\n",
        "    print('Ingrese su contraseña: ')\n",
        "    while n:\n",
        "        for i in range(tamaño):\n",
        "          if x==5:\n",
        "            print('Ha utilizado los intentos permitidos, intente mas tarde ')\n",
        "            n=False\n",
        "            break\n",
        "          contraseña=input()\n",
        "          x+=1\n",
        "          if contraseña==contrasena:\n",
        "              print('Contraseña Corecta\\n ¡BIENVENIDO!') \n",
        "              n=False\n",
        "              break\n",
        "          else:\n",
        "              print('Contraseña Incorrecta, Vuelva a Intentarlo\\t')   \n",
        "    #------------------------------------------\n",
        "    continuar=False\n",
        "  if intentos==intentos_permitidos:\n",
        "    print('Ha utilizado los intentos permitidos, intente mas tarde ')\n",
        "    continuar=False\n",
        "    n=False\n",
        "print('Ejecución terminada')"
      ],
      "metadata": {
        "colab": {
          "base_uri": "https://localhost:8080/"
        },
        "id": "nJC7yJ_VvKJE",
        "outputId": "7bfcc77d-f20a-41bf-ef4d-b34d6ed08dac"
      },
      "execution_count": 5,
      "outputs": [
        {
          "output_type": "stream",
          "name": "stdout",
          "text": [
            "Este programa emulador de acceso, Solo le permitirá continuar si escribe correctamente\n",
            " los 5 caracteres de la clave de acceso mostrada\n",
            "Escriba el codigo mostrado en pantalla\n",
            "t\n",
            "te\n",
            "tet\n",
            "tetc\n",
            "tetcl\n",
            "ingrese la clave de acceso de seguridad tetcl  :tetcl\n",
            "Muy Bien, podrá continuar con el acceso a su cuenta\n",
            "Ingrese su contraseña: \n",
            "contrasena_1245\n",
            "Contraseña Corecta\n",
            " ¡BIENVENIDO!\n",
            "Ejecución terminada\n"
          ]
        }
      ]
    }
  ]
}